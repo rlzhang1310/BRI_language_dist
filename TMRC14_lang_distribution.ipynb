{
 "cells": [
  {
   "cell_type": "code",
   "execution_count": 14,
   "metadata": {},
   "outputs": [],
   "source": [
    "import boto3\n",
    "import zipfile\n",
    "import json\n",
    "import io\n",
    "import pandas as pd\n",
    "import matplotlib.pyplot as plt\n"
   ]
  },
  {
   "cell_type": "code",
   "execution_count": 15,
   "metadata": {},
   "outputs": [],
   "source": [
    "s3_host = 'https://obj.umiacs.umd.edu'\n",
    "access_key_id = \"xxxxx\"\n",
    "secret_access_key = \"xxxxx\"\n",
    "\n",
    "s3 = boto3.client('s3', \n",
    "                  endpoint_url=s3_host, \n",
    "                  aws_access_key_id=access_key_id, \n",
    "                  aws_secret_access_key=secret_access_key)\n",
    "\n",
    "buntain = 'buntain'\n"
   ]
  },
  {
   "cell_type": "code",
   "execution_count": 18,
   "metadata": {},
   "outputs": [],
   "source": [
    "def process(folder_prefix):\n",
    "    lang_dict = dict()\n",
    "    response = s3.list_objects_v2(Bucket=buntain, Prefix=folder_prefix)\n",
    "    i = 0\n",
    "    files = []\n",
    "    for obj in response.get('Contents', []):\n",
    "        i += 1\n",
    "        object_key = obj['Key']\n",
    "        if object_key.endswith('.zip'):\n",
    "            files.append(object_key)\n",
    "    print(f\"number of files: {i}\")\n",
    "    for file in files:\n",
    "        zip_object = s3.get_object(Bucket=buntain, Key=file)\n",
    "        zip_contents = zip_object['Body'].read()\n",
    "        zip_file = zipfile.ZipFile(io.BytesIO(zip_contents), 'r')\n",
    "        for file_info in zip_file.infolist():\n",
    "            with zip_file.open(file_info) as json_file:\n",
    "                file_name = file_info.filename\n",
    "                if not file_name.endswith(\"-tweet.json\"):\n",
    "                    continue\n",
    "                try:\n",
    "                    json_data = json_file.read().decode('utf-8')\n",
    "                except: \n",
    "                    print(\"this is a text file\")\n",
    "                parsed_data = json.loads(json_data)\n",
    "                for ind_data in parsed_data:\n",
    "                    lang = ind_data['tweet']['tweet_language'] \n",
    "                    if lang in lang_dict:\n",
    "                        lang_dict[lang] +=1\n",
    "                    else:\n",
    "                        lang_dict[lang] = 1\n",
    "    return lang_dict"
   ]
  },
  {
   "cell_type": "code",
   "execution_count": 19,
   "metadata": {},
   "outputs": [
    {
     "name": "stdout",
     "output_type": "stream",
     "text": [
      "number of files: 1000\n"
     ]
    },
    {
     "ename": "KeyError",
     "evalue": "'tweet_language'",
     "output_type": "error",
     "traceback": [
      "\u001b[0;31m---------------------------------------------------------------------------\u001b[0m",
      "\u001b[0;31mKeyError\u001b[0m                                  Traceback (most recent call last)",
      "\u001b[1;32m/Users/rlzhang1310/Coding/buntain/TMRC14_lang_distribution.ipynb Cell 4\u001b[0m line \u001b[0;36m6\n\u001b[1;32m      <a href='vscode-notebook-cell:/Users/rlzhang1310/Coding/buntain/TMRC14_lang_distribution.ipynb#W3sZmlsZQ%3D%3D?line=3'>4</a>\u001b[0m dict_lst \u001b[39m=\u001b[39m []\n\u001b[1;32m      <a href='vscode-notebook-cell:/Users/rlzhang1310/Coding/buntain/TMRC14_lang_distribution.ipynb#W3sZmlsZQ%3D%3D?line=4'>5</a>\u001b[0m \u001b[39mfor\u001b[39;00m f \u001b[39min\u001b[39;00m folder_prefix_lst:\n\u001b[0;32m----> <a href='vscode-notebook-cell:/Users/rlzhang1310/Coding/buntain/TMRC14_lang_distribution.ipynb#W3sZmlsZQ%3D%3D?line=5'>6</a>\u001b[0m     dict_lst\u001b[39m.\u001b[39mappend(process(f))\n",
      "\u001b[1;32m/Users/rlzhang1310/Coding/buntain/TMRC14_lang_distribution.ipynb Cell 4\u001b[0m line \u001b[0;36m3\n\u001b[1;32m     <a href='vscode-notebook-cell:/Users/rlzhang1310/Coding/buntain/TMRC14_lang_distribution.ipynb#W3sZmlsZQ%3D%3D?line=27'>28</a>\u001b[0m parsed_data \u001b[39m=\u001b[39m json\u001b[39m.\u001b[39mloads(json_data)\n\u001b[1;32m     <a href='vscode-notebook-cell:/Users/rlzhang1310/Coding/buntain/TMRC14_lang_distribution.ipynb#W3sZmlsZQ%3D%3D?line=28'>29</a>\u001b[0m \u001b[39mfor\u001b[39;00m ind_data \u001b[39min\u001b[39;00m parsed_data:\n\u001b[0;32m---> <a href='vscode-notebook-cell:/Users/rlzhang1310/Coding/buntain/TMRC14_lang_distribution.ipynb#W3sZmlsZQ%3D%3D?line=29'>30</a>\u001b[0m     lang \u001b[39m=\u001b[39m ind_data[\u001b[39m'\u001b[39;49m\u001b[39mtweet\u001b[39;49m\u001b[39m'\u001b[39;49m][\u001b[39m'\u001b[39;49m\u001b[39mtweet_language\u001b[39;49m\u001b[39m'\u001b[39;49m] \n\u001b[1;32m     <a href='vscode-notebook-cell:/Users/rlzhang1310/Coding/buntain/TMRC14_lang_distribution.ipynb#W3sZmlsZQ%3D%3D?line=30'>31</a>\u001b[0m     \u001b[39mif\u001b[39;00m lang \u001b[39min\u001b[39;00m lang_dict:\n\u001b[1;32m     <a href='vscode-notebook-cell:/Users/rlzhang1310/Coding/buntain/TMRC14_lang_distribution.ipynb#W3sZmlsZQ%3D%3D?line=31'>32</a>\u001b[0m         lang_dict[lang] \u001b[39m+\u001b[39m\u001b[39m=\u001b[39m\u001b[39m1\u001b[39m\n",
      "\u001b[0;31mKeyError\u001b[0m: 'tweet_language'"
     ]
    }
   ],
   "source": [
    "# folder_prefix_lst = ['twitter.tmrc/August_2022/TMRC14_APAC_1/', 'twitter.tmrc/August_2022/TMRC14_APAC_2/', 'twitter.tmrc/October_2022/TMRC15_APAC_3/']\n",
    "folder_prefix_lst = ['twitter.tmrc/October_2022/TMRC15_APAC_3/']\n",
    "\n",
    "dict_lst = []\n",
    "for f in folder_prefix_lst:\n",
    "    dict_lst.append(process(f))"
   ]
  },
  {
   "cell_type": "code",
   "execution_count": 6,
   "metadata": {},
   "outputs": [],
   "source": [
    "sorted_dict_lst = []\n",
    "for d in dict_lst:\n",
    "    sorted_dict_lst.append(dict(sorted(d.items(), key=lambda item: item[1], reverse=True)))\n"
   ]
  },
  {
   "cell_type": "code",
   "execution_count": 7,
   "metadata": {},
   "outputs": [
    {
     "name": "stdout",
     "output_type": "stream",
     "text": [
      "{'in': 63791, 'fr': 2, 'en': 1351, 'und': 578, 'fi': 17, 'hu': 23, 'es': 57, 'tl': 249, 'ht': 21, 'tr': 37, 'de': 9, 'ja': 16, 'ko': 15, 'cs': 4, 'nl': 16, 'pt': 6, 'it': 7, 'sv': 4, 'cy': 5, 'lt': 5, 'hi': 10, 'da': 9, 'et': 21, 'ro': 5, 'is': 5, 'eu': 4, 'vi': 2, 'no': 6, 'pl': 6, 'th': 1, 'sl': 1, 'ar': 1, 'ta': 1, 'fa': 1, 'zh': 1, 'lv': 1}\n",
      "{'en': 176524, 'und': 72625, 'es': 409, 'ur': 3901, 'hi': 14077, 'in': 2130, 'fr': 213, 'et': 492, 'tr': 171, 'mr': 104, 'tl': 1202, 'eu': 43, 'cy': 61, 'pt': 84, 'fi': 150, 'da': 226, 'fa': 211, 'ht': 189, 'ta': 110, 'ca': 116, 'de': 177, 'it': 63, 'pl': 73, 'lt': 40, 'cs': 22, 'no': 41, 'is': 9, 'ps': 1, 'lv': 40, 'sd': 16, 'bn': 366, 'ar': 80, 'ro': 100, 'sl': 23, 'sv': 63, 'nl': 125, 'ne': 44, 'hu': 31, 'te': 4, 'ru': 2, 'ja': 2, 'or': 1, 'gu': 10, 'pa': 7, 'zh': 3, 'vi': 8, 'iw': 2, 'ml': 16, 'kn': 1}\n",
      "{'und': 469826, 'ur': 1516325, 'en': 1754952, 'fa': 40804, 'nl': 11663, 'tl': 84529, 'in': 220929, 'hi': 168894, 'et': 27108, 'ca': 4400, 'ht': 22220, 'tr': 7711, 'ar': 19790, 'es': 8809, 'it': 3217, 'cs': 3294, 'fr': 4833, 'lt': 1457, 'de': 4682, 'fi': 5576, 'da': 2246, 'cy': 3179, 'hu': 1819, 'pt': 6425, 'ro': 2334, 'eu': 2399, 'pl': 6667, 'sd': 877, 'sv': 3090, 'lv': 1665, 'ps': 664, 'vi': 2036, 'no': 1290, 'zh': 121, 'ja': 447, 'is': 610, 'sl': 1308, 'el': 7, 'pa': 54, 'ko': 23, 'uk': 8, 'ckb': 2, 'mr': 8, 'ru': 31, 'si': 3, 'bn': 7, 'gu': 2, 'th': 9, 'iw': 1, 'ta': 14, 'hy': 1, 'bg': 1, 'kn': 4, 'ne': 2, 'ml': 1}\n"
     ]
    }
   ],
   "source": [
    "for time_df in dict_lst:\n",
    "    print(time_df)"
   ]
  },
  {
   "cell_type": "code",
   "execution_count": 9,
   "metadata": {},
   "outputs": [],
   "source": [
    "df_lst = []\n",
    "for d in sorted_dict_lst:\n",
    "    df_lst.append(pd.DataFrame(d.items(), columns=[\"language\", \"count\"]))"
   ]
  },
  {
   "cell_type": "code",
   "execution_count": 13,
   "metadata": {},
   "outputs": [],
   "source": [
    "## downloads data\n",
    "i = 1\n",
    "for time_df in df_lst:\n",
    "    time_df.to_csv(f\"~/Coding/buntain/language_data/TMRC14_APAC_{i}.csv\", index=False)\n",
    "    i+=1"
   ]
  }
 ],
 "metadata": {
  "kernelspec": {
   "display_name": "Python 3",
   "language": "python",
   "name": "python3"
  },
  "language_info": {
   "codemirror_mode": {
    "name": "ipython",
    "version": 3
   },
   "file_extension": ".py",
   "mimetype": "text/x-python",
   "name": "python",
   "nbconvert_exporter": "python",
   "pygments_lexer": "ipython3",
   "version": "3.11.5"
  },
  "orig_nbformat": 4
 },
 "nbformat": 4,
 "nbformat_minor": 2
}
